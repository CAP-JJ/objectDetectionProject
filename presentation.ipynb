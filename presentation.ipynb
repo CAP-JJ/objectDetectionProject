{
 "cells": [
  {
   "cell_type": "markdown",
   "source": [
    "# Object Detection Project"
   ],
   "metadata": {
    "collapsed": false
   },
   "id": "14e06f675ed2c8c3"
  },
  {
   "cell_type": "markdown",
   "source": [
    "## Introduction\n",
    "This project briefly explores multiple machine learning models tailor-made for realtime object detection.\n",
    "Lorem ipsum dolor sit amet, consectetur adipiscing elit. Nam venenatis enim in ex dictum sagittis. Vestibulum convallis ultricies lectus, vitae condimentum tortor laoreet vitae. Vivamus eget felis tempus, mattis ex quis, auctor libero. Suspendisse tincidunt augue in purus fringilla, id efficitur nunc porttitor. Donec auctor nibh a egestas dapibus. Donec erat elit, blandit in quam ac, rutrum porttitor metus. Morbi ut velit vitae nunc accumsan venenatis sed vitae enim. Proin sollicitudin sit amet ligula at ornare. Pellentesque ornare libero ut quam sollicitudin finibus. Sed mollis a urna in semper. Suspendisse sollicitudin condimentum sollicitudin.\n",
    "\n",
    "Integer eget aliquet mi. Pellentesque a venenatis nunc. Quisque eget libero ultrices, vestibulum ex et, laoreet dui. In hendrerit ipsum vitae magna efficitur, in facilisis tellus efficitur. Duis leo sem, efficitur ac velit sed, egestas consequat augue. Mauris nec egestas mauris. Etiam vitae urna sollicitudin, ullamcorper felis nec, porttitor neque. Nulla vitae arcu at erat consequat vulputate nec vel metus. Quisque dui tortor, molestie vitae cursus vitae, pellentesque efficitur elit. Etiam eleifend tortor nibh, lacinia semper eros venenatis a. Duis sed tristique lorem. Donec interdum nulla id libero sodales aliquam. Donec laoreet, quam id rutrum aliquet, felis magna ullamcorper odio, eu consectetur sem nunc non eros. Aliquam fringilla arcu at augue suscipit, nec laoreet tortor faucibus. Nullam turpis tellus, pulvinar a rhoncus vitae, mattis vel ligula."
   ],
   "metadata": {
    "collapsed": false
   },
   "id": "24b05f0e49435811"
  },
  {
   "cell_type": "markdown",
   "source": [
    "## Requirements\n",
    "Lorem ipsum dolor sit amet, consectetur adipiscing elit. Nam venenatis enim in ex dictum sagittis. Vestibulum convallis ultricies lectus, vitae condimentum tortor laoreet vitae. Vivamus eget felis tempus, mattis ex quis, auctor libero. Suspendisse tincidunt augue in purus fringilla, id efficitur nunc porttitor. Donec auctor nibh a egestas dapibus. Donec erat elit, blandit in quam ac, rutrum porttitor metus. Morbi ut velit vitae nunc accumsan venenatis sed vitae enim. Proin sollicitudin sit amet ligula at ornare. Pellentesque ornare libero ut quam sollicitudin finibus. Sed mollis a urna in semper. Suspendisse sollicitudin condimentum sollicitudin."
   ],
   "metadata": {
    "collapsed": false
   },
   "id": "4990fcf07305fd06"
  },
  {
   "cell_type": "code",
   "outputs": [
    {
     "name": "stdout",
     "output_type": "stream",
     "text": [
      "WARNING:tensorflow:From C:\\Users\\estaj\\PycharmProjects\\ObjectDetectionProject\\.venv\\Lib\\site-packages\\keras\\src\\losses.py:2976: The name tf.losses.sparse_softmax_cross_entropy is deprecated. Please use tf.compat.v1.losses.sparse_softmax_cross_entropy instead.\n"
     ]
    }
   ],
   "source": [
    "import pyrealsense2 as rs\n",
    "import numpy as np\n",
    "import cv2\n",
    "import tensorflow as tf"
   ],
   "metadata": {
    "collapsed": false,
    "ExecuteTime": {
     "end_time": "2023-12-29T14:00:39.571381700Z",
     "start_time": "2023-12-29T14:00:34.696943500Z"
    }
   },
   "id": "d6b4897e0e25ef95",
   "execution_count": 1
  },
  {
   "cell_type": "code",
   "outputs": [],
   "source": [
    "# Configure depth and color streams\n",
    "pipeline = rs.pipeline()\n",
    "config = rs.config()\n",
    "config.enable_stream(rs.stream.color, 1280, 720, rs.format.bgr8, 30)\n",
    "\n",
    "print(\"[INFO] Starting streaming...\")\n",
    "pipeline.start(config)\n",
    "print(\"[INFO] Camera ready.\")"
   ],
   "metadata": {
    "collapsed": false
   },
   "id": "616baa7a2022a7e7"
  },
  {
   "cell_type": "code",
   "outputs": [],
   "source": [
    "print(\"[INFO] Loading model...\")\n",
    "PATH_TO_CKPT = \"frozen_inference_graph.pb\"\n",
    "\n",
    "# Load the Tensorflow model into memory.\n",
    "detection_graph = tf.Graph()\n",
    "with detection_graph.as_default():\n",
    "    od_graph_def = tf.compat.v1.GraphDef()\n",
    "    with tf.compat.v1.gfile.GFile(PATH_TO_CKPT, 'rb') as fid:\n",
    "        serialized_graph = fid.read()\n",
    "        od_graph_def.ParseFromString(serialized_graph)\n",
    "        tf.compat.v1.import_graph_def(od_graph_def, name='')\n",
    "    sess = tf.compat.v1.Session(graph=detection_graph)"
   ],
   "metadata": {
    "collapsed": false
   },
   "id": "f90b82e34b574881"
  },
  {
   "cell_type": "code",
   "outputs": [],
   "source": [
    "# Input tensor is the image\n",
    "image_tensor = detection_graph.get_tensor_by_name('image_tensor:0')\n",
    "# Output tensors are the detection boxes, scores, and classes\n",
    "# Each box represents a part of the image where a particular object was detected\n",
    "detection_boxes = detection_graph.get_tensor_by_name('detection_boxes:0')\n",
    "# Each score represents level of confidence for each of the objects.\n",
    "# The score is shown on the result image, together with the class label.\n",
    "detection_scores = detection_graph.get_tensor_by_name('detection_scores:0')\n",
    "detection_classes = detection_graph.get_tensor_by_name('detection_classes:0')\n",
    "# Number of objects detected\n",
    "num_detections = detection_graph.get_tensor_by_name('num_detections:0')\n",
    "# code source of tensorflow model loading:\n",
    "# https://www.geeksforgeeks.org/ml-training-image-classifier-using-tensorflow-object-detection-api/\n",
    "print(\"[INFO] Model loaded.\")"
   ],
   "metadata": {
    "collapsed": false
   },
   "id": "34333eb3acc175d1"
  },
  {
   "cell_type": "code",
   "outputs": [],
   "source": [
    "colors_hash = {}\n",
    "while True:\n",
    "    frames = pipeline.wait_for_frames()\n",
    "    color_frame = frames.get_color_frame()\n",
    "\n",
    "    # Convert images to numpy arrays\n",
    "    color_image = np.asanyarray(color_frame.get_data())\n",
    "    scaled_size = (color_frame.width, color_frame.height)\n",
    "    # expand image dimensions to have shape: [1, None, None, 3]\n",
    "    # i.e. a single-column array, where each item in the column has the pixel RGB value\n",
    "    image_expanded = np.expand_dims(color_image, axis=0)\n",
    "    # Perform the actual detection by running the model with the image as input\n",
    "    (boxes, scores, classes, num) = sess.run([detection_boxes, detection_scores, detection_classes, num_detections],\n",
    "                                             feed_dict={image_tensor: image_expanded})\n",
    "\n",
    "    boxes = np.squeeze(boxes)\n",
    "    classes = np.squeeze(classes).astype(np.int32)\n",
    "    scores = np.squeeze(scores)\n",
    "\n",
    "    for idx in range(int(num)):\n",
    "        class_ = classes[idx]\n",
    "        score = scores[idx]\n",
    "        box = boxes[idx]\n",
    "\n",
    "        if class_ not in colors_hash:\n",
    "            colors_hash[class_] = tuple(np.random.choice(range(256), size=3))\n",
    "\n",
    "        if score > 0.6:\n",
    "            left = int(box[1] * color_frame.width)\n",
    "            top = int(box[0] * color_frame.height)\n",
    "            right = int(box[3] * color_frame.width)\n",
    "            bottom = int(box[2] * color_frame.height)\n",
    "\n",
    "            p1 = (left, top)\n",
    "            p2 = (right, bottom)\n",
    "            # draw box\n",
    "            r, g, b = colors_hash[class_]\n",
    "            cv2.rectangle(color_image, p1, p2, (int(r), int(g), int(b)), 2, 1)\n",
    "\n",
    "    cv2.namedWindow('RealSense', cv2.WINDOW_AUTOSIZE)\n",
    "    cv2.imshow('RealSense', color_image)\n",
    "    cv2.waitKey(1)\n",
    "\n",
    "print(\"[INFO] stop streaming ...\")\n",
    "pipeline.stop()"
   ],
   "metadata": {
    "collapsed": false
   },
   "id": "308f077f3f8c94d"
  }
 ],
 "metadata": {
  "kernelspec": {
   "display_name": "Python 3",
   "language": "python",
   "name": "python3"
  },
  "language_info": {
   "codemirror_mode": {
    "name": "ipython",
    "version": 2
   },
   "file_extension": ".py",
   "mimetype": "text/x-python",
   "name": "python",
   "nbconvert_exporter": "python",
   "pygments_lexer": "ipython2",
   "version": "2.7.6"
  }
 },
 "nbformat": 4,
 "nbformat_minor": 5
}
