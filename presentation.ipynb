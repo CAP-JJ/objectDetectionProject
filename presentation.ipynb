{
 "cells": [
  {
   "cell_type": "markdown",
   "source": [
    "# Real-Time Object Detection with YOLO and RealSense Depth Camera"
   ],
   "metadata": {
    "collapsed": false
   },
   "id": "14e06f675ed2c8c3"
  },
  {
   "cell_type": "markdown",
   "source": [
    "## Introduction\n"
   ],
   "metadata": {
    "collapsed": false
   },
   "id": "24b05f0e49435811"
  },
  {
   "cell_type": "markdown",
   "source": [
    "### Object Detection"
   ],
   "metadata": {
    "collapsed": false
   },
   "id": "bbf17607de7f8284"
  },
  {
   "cell_type": "markdown",
   "source": [
    "### RealSense"
   ],
   "metadata": {
    "collapsed": false
   },
   "id": "46cdaf4d2320c25"
  },
  {
   "cell_type": "markdown",
   "source": [
    "### Industrial Use Cases"
   ],
   "metadata": {
    "collapsed": false
   },
   "id": "36222b769b35aa41"
  },
  {
   "cell_type": "markdown",
   "source": [
    "## Machine Learning Models\n",
    "\n"
   ],
   "metadata": {
    "collapsed": false
   },
   "id": "4990fcf07305fd06"
  },
  {
   "cell_type": "markdown",
   "source": [
    "### Platforms\n",
    "\n"
   ],
   "metadata": {
    "collapsed": false
   },
   "id": "610479d5445118b9"
  },
  {
   "cell_type": "markdown",
   "source": [
    "### Model Comparison"
   ],
   "metadata": {
    "collapsed": false
   },
   "id": "ec3703243fe258f6"
  },
  {
   "cell_type": "markdown",
   "source": [
    "### YOLO v8\n"
   ],
   "metadata": {
    "collapsed": false
   },
   "id": "5cd27fe27990ca6e"
  },
  {
   "cell_type": "markdown",
   "source": [
    "#### Different functionalities"
   ],
   "metadata": {
    "collapsed": false
   },
   "id": "aab9a1fc7b69cdf6"
  },
  {
   "cell_type": "markdown",
   "source": [
    "#### Training"
   ],
   "metadata": {
    "collapsed": false
   },
   "id": "5ea6adbc6fe57b6"
  },
  {
   "cell_type": "markdown",
   "source": [
    "#### COCO training set"
   ],
   "metadata": {
    "collapsed": false
   },
   "id": "f904c277e025716d"
  },
  {
   "cell_type": "markdown",
   "source": [
    "#### Pretrained models"
   ],
   "metadata": {
    "collapsed": false
   },
   "id": "5c8561d01855b5b7"
  },
  {
   "cell_type": "markdown",
   "source": [
    "#### Prediction"
   ],
   "metadata": {
    "collapsed": false
   },
   "id": "1d91bef607d262c0"
  },
  {
   "cell_type": "markdown",
   "source": [
    "## Implementation\n"
   ],
   "metadata": {
    "collapsed": false
   },
   "id": "46a060b5beccbdbb"
  },
  {
   "cell_type": "markdown",
   "source": [
    "### Prerequisites"
   ],
   "metadata": {
    "collapsed": false
   },
   "id": "d258b6801581793"
  },
  {
   "cell_type": "markdown",
   "source": [
    "### Overlay Function"
   ],
   "metadata": {
    "collapsed": false
   },
   "id": "475fc29d5a390c79"
  },
  {
   "cell_type": "markdown",
   "source": [
    "### Plot Box Function"
   ],
   "metadata": {
    "collapsed": false
   },
   "id": "8daf17b3767eafb8"
  },
  {
   "cell_type": "markdown",
   "source": [
    "### Camera Feed Preparation"
   ],
   "metadata": {
    "collapsed": false
   },
   "id": "9858fbb351c22d2a"
  },
  {
   "cell_type": "markdown",
   "source": [
    "### Loading Model"
   ],
   "metadata": {
    "collapsed": false
   },
   "id": "f4ec5ecdd69eee8"
  },
  {
   "cell_type": "markdown",
   "source": [
    "### Main Loop"
   ],
   "metadata": {
    "collapsed": false
   },
   "id": "adf0206ef20b8e19"
  },
  {
   "cell_type": "markdown",
   "source": [
    "### Clean-up and Resource Management"
   ],
   "metadata": {
    "collapsed": false
   },
   "id": "2c73c21614c289bf"
  },
  {
   "cell_type": "markdown",
   "source": [
    "## Usage"
   ],
   "metadata": {
    "collapsed": false
   },
   "id": "9368577da12f7a77"
  }
 ],
 "metadata": {
  "kernelspec": {
   "display_name": "Python 3",
   "language": "python",
   "name": "python3"
  },
  "language_info": {
   "codemirror_mode": {
    "name": "ipython",
    "version": 2
   },
   "file_extension": ".py",
   "mimetype": "text/x-python",
   "name": "python",
   "nbconvert_exporter": "python",
   "pygments_lexer": "ipython2",
   "version": "2.7.6"
  }
 },
 "nbformat": 4,
 "nbformat_minor": 5
}
