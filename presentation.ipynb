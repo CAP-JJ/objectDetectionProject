{
 "cells": [
  {
   "cell_type": "markdown",
   "id": "14e06f675ed2c8c3",
   "metadata": {
    "editable": true,
    "slideshow": {
     "slide_type": "slide"
    },
    "tags": []
   },
   "source": [
    "<h1 style=\"text-align: center\">Real-Time Object Detection with YOLO and RealSense Depth Camera</h1>"
   ]
  },
  {
   "cell_type": "markdown",
   "id": "24b05f0e49435811",
   "metadata": {
    "jp-MarkdownHeadingCollapsed": true,
    "slideshow": {
     "slide_type": "slide"
    }
   },
   "source": [
    "<h2>Introduction</h2>\n",
    "<p style=\"text-align: justify\">This project implements real-time object detection and segmentation using the YOLO (You Only Look Once) model, integrated with a RealSense camera. The script captures video frames from the RealSense camera applies object detection, overlays segmentation masks, and visualizes the results in real-time.</p>"
   ]
  },
  {
   "cell_type": "markdown",
   "id": "bbf17607de7f8284",
   "metadata": {
    "slideshow": {
     "slide_type": "subslide"
    }
   },
   "source": [
    "<h3>Object Detection</h3>\n",
    "<table width=\"100%\">\n",
    "    <tr>\n",
    "        <td width=\"50%\" bgcolor=\"#ffffff\">\n",
    "            <p style=\"text-align: justify\">Object detection is a computer vision technique that identifies and locates objects within an image or video frame. This process involves both classifying objects and determining their positions, typically marked with bounding boxes.</p>\n",
    "        </td>\n",
    "        <td width=\"50%\" bgcolor=\"#ffffff\">\n",
    "            <img src=\"img/ObjDet.jpg\" alt=\"RealSense D415 Depth Camera\" />\n",
    "        </td>\n",
    "    </tr>\n",
    "</table>\n",
    "<hr>\n",
    "<footer>\n",
    "    <p style=\"text-align: right\" ><a href=\"https://www.freepik.com/free-vector/businessman-technology-measuring-eye-position-movement-tiny-people-eye-tracking-technology-gaze-tracking-eye-position-sensor-concept_11669265.htm#query=object%20recognition&position=20&from_view=keyword&track=ais&uuid=ea96fe7c-a24b-456f-b3da-470e6a4a764e#position=20&query=object%20recognition\">Image source: freepik.com</a></p>\n",
    "</footer>"
   ]
  },
  {
   "cell_type": "markdown",
   "id": "46cdaf4d2320c25",
   "metadata": {
    "slideshow": {
     "slide_type": "subslide"
    }
   },
   "source": [
    "<h3>RealSense</h3>\n",
    "<table width=\"100%\">\n",
    "    <tr>\n",
    "        <td width=\"50%\" bgcolor=\"#ffffff\">\n",
    "            <p style=\"text-align: justify\">The RealSense camera is a series of depth-sensing cameras developed by Intel, designed to capture 3D spatial data and enable depth perception in various applications, ranging from virtual reality and augmented reality to robotics and gesture recognition.</p>\n",
    "        </td>\n",
    "        <td width=\"50%\" bgcolor=\"#ffffff\">\n",
    "            <img src=\"img/d415_front.png\" alt=\"RealSense D415 Depth Camera\" />\n",
    "        </td>\n",
    "    </tr>\n",
    "</table>\n",
    "<hr>\n",
    "<footer>\n",
    "    <p style=\"text-align: right\"><a href=\"https://www.intelrealsense.com/depth-camera-d415/\">Source: intelrealsense.com</a></p>\n",
    "</footer>\n"
   ]
  },
  {
   "cell_type": "markdown",
   "id": "36222b769b35aa41",
   "metadata": {
    "slideshow": {
     "slide_type": "subslide"
    }
   },
   "source": [
    "<h3>Industrial Use Cases</h3>\n",
    "<table width=\"100%\">\n",
    "    <tr>\n",
    "        <td width=\"50%\" bgcolor=\"#ffffff\">\n",
    "            <ul style=\"text-align: left\">\n",
    "                <li>Quality Control</li>\n",
    "                <li>Inventory Management</li>\n",
    "                <li>Safety Compliance Monitoring</li>\n",
    "                <li>Automation in Manufacturing</li>\n",
    "                <li>Robotics and Automated Guided Vehicles (AGVs)</li>\n",
    "                <li>Agricultural Automation</li>\n",
    "                <li>Surveillance and Security</li>\n",
    "                <li>Pharmaceuticals and Healthcare</li>\n",
    "                <li>Food and Beverage Industry</li>\n",
    "                <li>Mining and Construction</li>\n",
    "            </ul>\n",
    "        </td>\n",
    "        <td width=\"50%\" bgcolor=\"#ffffff\">\n",
    "            <img src=\"img/d415_front.png\" alt=\"RealSense D415 Depth Camera\" />\n",
    "        </td>\n",
    "    </tr>\n",
    "</table>\n",
    "<hr>\n",
    "<footer>\n",
    "    <p style=\"text-align: right\"><a href=\"https://www.intelrealsense.com/depth-camera-d415/\">Source: intelrealsense.com</a></p>\n",
    "</footer>"
   ]
  },
  {
   "cell_type": "markdown",
   "id": "4990fcf07305fd06",
   "metadata": {
    "jp-MarkdownHeadingCollapsed": true,
    "slideshow": {
     "slide_type": "slide"
    }
   },
   "source": [
    "## Machine Learning Models\n",
    "\n",
    "Machine learning object detection models identify and locate objects in images or videos. They use algorithms, typically based on convolutional neural networks, to classify objects and pinpoint their positions with bounding boxes. Popular models like YOLO, SSD, and Faster R-CNN vary in speed and accuracy, and are essential in applications like autonomous driving, surveillance, and augmented reality."
   ]
  },
  {
   "cell_type": "markdown",
   "id": "610479d5445118b9",
   "metadata": {
    "slideshow": {
     "slide_type": "subslide"
    }
   },
   "source": [
    "<html syle=\"height: 100%; padding: 0; margin: 0\">\n",
    "<body syle=\"height: 100%; padding: 0; margin: 0\">\n",
    "    <h3>Platforms</h3>\n",
    "    <table width=\"100%\" syle=\"height: 100%; border-collapse: collapse; padding: 0; margin: 0\">\n",
    "        <tr>\n",
    "            <td valign=\"top\">\n",
    "                <div id=\"main\">Lorem ipsum, etc.</div>\n",
    "            </td>\n",
    "        </tr>\n",
    "        <tr>\n",
    "            <td valign=\"bottom\">\n",
    "                <div id=\"footer\">Copyright some evil company...</div>\n",
    "            </td>\n",
    "        </tr>\n",
    "    </table>\n",
    "</body>\n",
    "</html>"
   ]
  },
  {
   "cell_type": "markdown",
   "id": "ec3703243fe258f6",
   "metadata": {
    "slideshow": {
     "slide_type": "subslide"
    }
   },
   "source": [
    "### Model Comparison\n",
    "<p style=\"text-align: justify\">Faster RCNN, YOLO and SSD are three popular object detection systems that use deep learning to locate and classify objects in images. They differ in their architectures, speed and accuracy. Here is a brief comparison of their main features:</p>\n",
    "\n",
    "<dl>\n",
    "  <dt>Faster RCNN:</dt>\n",
    "  <dd style=\"text-align: justify\">This system consists of two modules: a region proposal network (RPN) that generates candidate regions of interest (RoIs), and a Fast RCNN network that classifies and refines the RoIs. Faster RCNN is accurate and robust, but it is slow compared to the other two systems, as it requires multiple stages and computations.</dd>\n",
    "\n",
    "  <dt>YOLO:</dt>\n",
    "  <dd style=\"text-align: justify\">This system divides the input image into a grid of cells, and predicts bounding boxes and class probabilities for each cell. YOLO is fast and efficient, as it performs object detection in a single pass through the network. However, it may struggle with small or overlapping objects, as it has a limited number of bounding boxes per cell.</dd>\n",
    "\n",
    "  <dt>SSD:</dt>\n",
    "  <dd style=\"text-align: justify\">This system also performs object detection in a single pass, but it uses multiple feature maps of different resolutions to generate bounding boxes and class probabilities. SSD is faster than Faster RCNN and more accurate than YOLO, as it can detect objects of various sizes and shapes. However, it may still miss some small or occluded objects, as it relies on fixed aspect ratios and scales.</dd>\n",
    "</dl>\n",
    "<p style=\"text-align: justify\">In summary, Faster RCNN is suitable for applications that require high accuracy and can tolerate low speed, such as medical image analysis or autonomous driving. YOLO is suitable for applications that require real-time performance and can tolerate some errors, such as video surveillance or sports analysis. SSD is a good compromise between speed and accuracy, and can be used for general-purpose object detection tasks.</p>\n",
    "<hr>\n",
    "<footer>\n",
    "<p style=\"text-align: right\"><a href=\"https://medium.com/ibm-data-ai/faster-r-cnn-vs-yolo-vs-ssd-object-detection-algorithms-18badb0e02dc\">Source: medium.com</a></p>\n",
    "</footer>"
   ]
  },
  {
   "cell_type": "markdown",
   "id": "5cd27fe27990ca6e",
   "metadata": {
    "slideshow": {
     "slide_type": "subslide"
    }
   },
   "source": [
    "### YOLO v8\n"
   ]
  },
  {
   "cell_type": "markdown",
   "id": "aab9a1fc7b69cdf6",
   "metadata": {
    "slideshow": {
     "slide_type": "fragment"
    }
   },
   "source": [
    "#### Different functionalities\n",
    "dfasgasdfgsdfgsd dfsgkj hsdlg sldifug sjg sldfkjfgh lskjdjghf lksjdfhg lka glijdjg hlkjjgfh lkfdgh\n",
    "sldfjkgh sdf g;oddg dfjgh ;klafhgj;kahfg; afg adfg kajgh ;akljfgh;aookdfgh afkjg akjgfh\n",
    "pioadfhg pag ;aog ;aoishjgf poasdfj ipoahj g;a gjf;aois gj;oaiisjgd ;aosigd hjasdg\n",
    "aspoiigdh paog paoig jao;s gj[aoiugd poaish g;kajshdg;kang;lkashg j"
   ]
  },
  {
   "cell_type": "markdown",
   "id": "5ea6adbc6fe57b6",
   "metadata": {
    "slideshow": {
     "slide_type": "fragment"
    }
   },
   "source": [
    "#### Training\n",
    "dfasgasdfgsdfgsd dfsgkj hsdlg sldifug sjg sldfkjfgh lskjdjghf lksjdfhg lka glijdjg hlkjjgfh lkfdgh\n",
    "sldfjkgh sdf g;oddg dfjgh ;klafhgj;kahfg; afg adfg kajgh ;akljfgh;aookdfgh afkjg akjgfh\n",
    "pioadfhg pag ;aog ;aoishjgf poasdfj ipoahj g;a gjf;aois gj;oaiisjgd ;aosigd hjasdg\n",
    "aspoiigdh paog paoig jao;s gj[aoiugd poaish g;kajshdg;kang;lkashg j"
   ]
  },
  {
   "cell_type": "markdown",
   "id": "f904c277e025716d",
   "metadata": {
    "slideshow": {
     "slide_type": "fragment"
    }
   },
   "source": [
    "#### COCO training set\n",
    "dfasgasdfgsdfgsd dfsgkj hsdlg sldifug sjg sldfkjfgh lskjdjghf lksjdfhg lka glijdjg hlkjjgfh lkfdgh\n",
    "sldfjkgh sdf g;oddg dfjgh ;klafhgj;kahfg; afg adfg kajgh ;akljfgh;aookdfgh afkjg akjgfh\n",
    "pioadfhg pag ;aog ;aoishjgf poasdfj ipoahj g;a gjf;aois gj;oaiisjgd ;aosigd hjasdg\n",
    "aspoiigdh paog paoig jao;s gj[aoiugd poaish g;kajshdg;kang;lkashg j"
   ]
  },
  {
   "cell_type": "markdown",
   "id": "5c8561d01855b5b7",
   "metadata": {
    "slideshow": {
     "slide_type": "fragment"
    }
   },
   "source": [
    "#### Pretrained models\n",
    "dfasgasdfgsdfgsd dfsgkj hsdlg sldifug sjg sldfkjfgh lskjdjghf lksjdfhg lka glijdjg hlkjjgfh lkfdgh\n",
    "sldfjkgh sdf g;oddg dfjgh ;klafhgj;kahfg; afg adfg kajgh ;akljfgh;aookdfgh afkjg akjgfh\n",
    "pioadfhg pag ;aog ;aoishjgf poasdfj ipoahj g;a gjf;aois gj;oaiisjgd ;aosigd hjasdg\n",
    "aspoiigdh paog paoig jao;s gj[aoiugd poaish g;kajshdg;kang;lkashg j"
   ]
  },
  {
   "cell_type": "markdown",
   "id": "1d91bef607d262c0",
   "metadata": {
    "slideshow": {
     "slide_type": "fragment"
    }
   },
   "source": [
    "#### Prediction\n",
    "dfasgasdfgsdfgsd dfsgkj hsdlg sldifug sjg sldfkjfgh lskjdjghf lksjdfhg lka glijdjg hlkjjgfh lkfdgh\n",
    "sldfjkgh sdf g;oddg dfjgh ;klafhgj;kahfg; afg adfg kajgh ;akljfgh;aookdfgh afkjg akjgfh\n",
    "pioadfhg pag ;aog ;aoishjgf poasdfj ipoahj g;a gjf;aois gj;oaiisjgd ;aosigd hjasdg\n",
    "aspoiigdh paog paoig jao;s gj[aoiugd poaish g;kajshdg;kang;lkashg j"
   ]
  },
  {
   "cell_type": "markdown",
   "id": "46a060b5beccbdbb",
   "metadata": {
    "jp-MarkdownHeadingCollapsed": true,
    "slideshow": {
     "slide_type": "slide"
    }
   },
   "source": [
    "## Implementation\n"
   ]
  },
  {
   "cell_type": "markdown",
   "id": "d258b6801581793",
   "metadata": {
    "slideshow": {
     "slide_type": "subslide"
    }
   },
   "source": [
    "### Prerequisites"
   ]
  },
  {
   "cell_type": "markdown",
   "id": "475fc29d5a390c79",
   "metadata": {
    "slideshow": {
     "slide_type": "subslide"
    }
   },
   "source": [
    "### Overlay Function"
   ]
  },
  {
   "cell_type": "markdown",
   "id": "8daf17b3767eafb8",
   "metadata": {
    "slideshow": {
     "slide_type": "subslide"
    }
   },
   "source": [
    "### Plot Box Function"
   ]
  },
  {
   "cell_type": "markdown",
   "id": "9858fbb351c22d2a",
   "metadata": {
    "slideshow": {
     "slide_type": "subslide"
    }
   },
   "source": [
    "### Camera Feed Preparation"
   ]
  },
  {
   "cell_type": "markdown",
   "id": "f4ec5ecdd69eee8",
   "metadata": {
    "slideshow": {
     "slide_type": "subslide"
    }
   },
   "source": [
    "### Loading Model"
   ]
  },
  {
   "cell_type": "markdown",
   "id": "adf0206ef20b8e19",
   "metadata": {
    "slideshow": {
     "slide_type": "subslide"
    }
   },
   "source": [
    "### Main Loop"
   ]
  },
  {
   "cell_type": "markdown",
   "id": "2c73c21614c289bf",
   "metadata": {
    "slideshow": {
     "slide_type": "subslide"
    }
   },
   "source": [
    "### Clean-up and Resource Management"
   ]
  },
  {
   "cell_type": "markdown",
   "id": "9368577da12f7a77",
   "metadata": {
    "editable": true,
    "jp-MarkdownHeadingCollapsed": true,
    "slideshow": {
     "slide_type": "slide"
    },
    "tags": []
   },
   "source": [
    "## Usage"
   ]
  }
 ],
 "metadata": {
  "celltoolbar": "Slideshow",
  "kernelspec": {
   "display_name": "Python 3 (ipykernel)",
   "language": "python",
   "name": "python3"
  },
  "language_info": {
   "codemirror_mode": {
    "name": "ipython",
    "version": 3
   },
   "file_extension": ".py",
   "mimetype": "text/x-python",
   "name": "python",
   "nbconvert_exporter": "python",
   "pygments_lexer": "ipython3",
   "version": "3.11.5"
  }
 },
 "nbformat": 4,
 "nbformat_minor": 5
}
