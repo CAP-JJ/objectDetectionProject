{
 "cells": [
  {
   "cell_type": "markdown",
   "id": "14e06f675ed2c8c3",
   "metadata": {
    "slideshow": {
     "slide_type": "slide"
    }
   },
   "source": [
    "# Real-Time Object Detection with YOLO and RealSense Depth Camera"
   ]
  },
  {
   "cell_type": "markdown",
   "id": "24b05f0e49435811",
   "metadata": {
    "slideshow": {
     "slide_type": "slide"
    }
   },
   "source": [
    "## Introduction\n",
    "This project implements real-time object detection and segmentation using the YOLO (You Only Look Once) model, integrated with a RealSense camera. The script captures video frames from the RealSense camera applies object detection, overlays segmentation masks, and visualizes the results in real-time."
   ]
  },
  {
   "cell_type": "markdown",
   "id": "bbf17607de7f8284",
   "metadata": {
    "slideshow": {
     "slide_type": "subslide"
    }
   },
   "source": [
    "### Object Detection"
   ]
  },
  {
   "cell_type": "markdown",
   "id": "46cdaf4d2320c25",
   "metadata": {
    "slideshow": {
     "slide_type": "subslide"
    }
   },
   "source": [
    "### RealSense"
   ]
  },
  {
   "cell_type": "markdown",
   "id": "36222b769b35aa41",
   "metadata": {
    "slideshow": {
     "slide_type": "subslide"
    }
   },
   "source": [
    "### Industrial Use Cases"
   ]
  },
  {
   "cell_type": "markdown",
   "id": "4990fcf07305fd06",
   "metadata": {
    "slideshow": {
     "slide_type": "slide"
    }
   },
   "source": [
    "## Machine Learning Models\n",
    "\n"
   ]
  },
  {
   "cell_type": "markdown",
   "id": "610479d5445118b9",
   "metadata": {
    "slideshow": {
     "slide_type": "subslide"
    }
   },
   "source": [
    "### Platforms\n",
    "\n"
   ]
  },
  {
   "cell_type": "markdown",
   "id": "ec3703243fe258f6",
   "metadata": {
    "slideshow": {
     "slide_type": "subslide"
    }
   },
   "source": [
    "### Model Comparison"
   ]
  },
  {
   "cell_type": "markdown",
   "id": "5cd27fe27990ca6e",
   "metadata": {
    "slideshow": {
     "slide_type": "subslide"
    }
   },
   "source": [
    "### YOLO v8\n"
   ]
  },
  {
   "cell_type": "markdown",
   "id": "aab9a1fc7b69cdf6",
   "metadata": {
    "slideshow": {
     "slide_type": "fragment"
    }
   },
   "source": [
    "#### Different functionalities"
   ]
  },
  {
   "cell_type": "markdown",
   "id": "5ea6adbc6fe57b6",
   "metadata": {
    "slideshow": {
     "slide_type": "fragment"
    }
   },
   "source": [
    "#### Training"
   ]
  },
  {
   "cell_type": "markdown",
   "id": "f904c277e025716d",
   "metadata": {
    "slideshow": {
     "slide_type": "fragment"
    }
   },
   "source": [
    "#### COCO training set"
   ]
  },
  {
   "cell_type": "markdown",
   "id": "5c8561d01855b5b7",
   "metadata": {
    "slideshow": {
     "slide_type": "fragment"
    }
   },
   "source": [
    "#### Pretrained models"
   ]
  },
  {
   "cell_type": "markdown",
   "id": "1d91bef607d262c0",
   "metadata": {
    "slideshow": {
     "slide_type": "fragment"
    }
   },
   "source": [
    "#### Prediction"
   ]
  },
  {
   "cell_type": "markdown",
   "id": "46a060b5beccbdbb",
   "metadata": {
    "slideshow": {
     "slide_type": "slide"
    }
   },
   "source": [
    "## Implementation\n"
   ]
  },
  {
   "cell_type": "markdown",
   "id": "d258b6801581793",
   "metadata": {
    "slideshow": {
     "slide_type": "subslide"
    }
   },
   "source": [
    "### Prerequisites"
   ]
  },
  {
   "cell_type": "markdown",
   "id": "475fc29d5a390c79",
   "metadata": {
    "slideshow": {
     "slide_type": "subslide"
    }
   },
   "source": [
    "### Overlay Function"
   ]
  },
  {
   "cell_type": "markdown",
   "id": "8daf17b3767eafb8",
   "metadata": {
    "slideshow": {
     "slide_type": "subslide"
    }
   },
   "source": [
    "### Plot Box Function"
   ]
  },
  {
   "cell_type": "markdown",
   "id": "9858fbb351c22d2a",
   "metadata": {
    "slideshow": {
     "slide_type": "subslide"
    }
   },
   "source": [
    "### Camera Feed Preparation"
   ]
  },
  {
   "cell_type": "markdown",
   "id": "f4ec5ecdd69eee8",
   "metadata": {
    "slideshow": {
     "slide_type": "subslide"
    }
   },
   "source": [
    "### Loading Model"
   ]
  },
  {
   "cell_type": "markdown",
   "id": "adf0206ef20b8e19",
   "metadata": {
    "slideshow": {
     "slide_type": "subslide"
    }
   },
   "source": [
    "### Main Loop"
   ]
  },
  {
   "cell_type": "markdown",
   "id": "2c73c21614c289bf",
   "metadata": {},
   "source": [
    "### Clean-up and Resource Management"
   ]
  },
  {
   "cell_type": "markdown",
   "id": "9368577da12f7a77",
   "metadata": {},
   "source": [
    "## Usage"
   ]
  }
 ],
 "metadata": {
  "celltoolbar": "Slideshow",
  "kernelspec": {
   "display_name": "Python 3 (ipykernel)",
   "language": "python",
   "name": "python3"
  },
  "language_info": {
   "codemirror_mode": {
    "name": "ipython",
    "version": 3
   },
   "file_extension": ".py",
   "mimetype": "text/x-python",
   "name": "python",
   "nbconvert_exporter": "python",
   "pygments_lexer": "ipython3",
   "version": "3.11.5"
  }
 },
 "nbformat": 4,
 "nbformat_minor": 5
}
